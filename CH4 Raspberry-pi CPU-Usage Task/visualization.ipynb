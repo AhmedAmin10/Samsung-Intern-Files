{
 "cells": [
  {
   "cell_type": "code",
   "execution_count": 1,
   "metadata": {},
   "outputs": [],
   "source": [
    "import pandas as pd\n",
    "import numpy as np \n",
    "import matplotlib as plt"
   ]
  },
  {
   "cell_type": "code",
   "execution_count": null,
   "metadata": {},
   "outputs": [],
   "source": [
    "from matplotlib import pyplot as plt\n",
    "from matplotlib import animation\n",
    "from gpiozero import LED\n",
    "import numpy as np\n",
    "import Adafruit_DHT\n",
    "import time\n",
    "sensor = Adafruit_DHT.DHTII\n",
    "pin = 20\n",
    "led_blue = LED(20)\n",
    "led_red = LED (21)\n",
    "\n",
    "fig = plt.figure()\n",
    "ax= plt.axes(xlim=(ø, 30), ylim=(15, 45))\n",
    "line,= ax.plot(np.arange(30), np.ones(30, dtype=float)* np.nan, lw=1, c='blue',marker= 'd',ms=2)\n",
    "h,t = Adafruit_DHT.read_retry(sensor,pin)\n",
    "def init():\n",
    "    return line\n",
    "def animate (i):\n",
    "    h,t = Adafruit_DHT.read_retry(sensor,pin)\n",
    "    if t <=25:\n",
    "        led_blue.on()\n",
    "        led_red.off()\n",
    "    else:\n",
    "        led_blue.off()\n",
    "        led_red.on()\n",
    "    print(f\"Frame #{i} - Temprature = {t}\")\n",
    "    y=t\n",
    "    old_y= line.get_ydata()\n",
    "    new_y = np.r_[old_y[1:] , y]\n",
    "    line.set_ydata(new_y)\n",
    "    return line ,\n",
    "anim = animation.FuncAnimation(fig,animate, init_func=init, frames=30, interval =100,blit =False)\n",
    "anim.save(f\"/home{int{time.time()}}.gif\",writer='pillow')\n",
    "led_blue.off()\n",
    "led_red.off()\n"
   ]
  }
 ],
 "metadata": {
  "kernelspec": {
   "display_name": "Python 3",
   "language": "python",
   "name": "python3"
  },
  "language_info": {
   "codemirror_mode": {
    "name": "ipython",
    "version": 3
   },
   "file_extension": ".py",
   "mimetype": "text/x-python",
   "name": "python",
   "nbconvert_exporter": "python",
   "pygments_lexer": "ipython3",
   "version": "3.10.10"
  }
 },
 "nbformat": 4,
 "nbformat_minor": 2
}
